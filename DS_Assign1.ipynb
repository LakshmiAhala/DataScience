{
  "nbformat": 4,
  "nbformat_minor": 0,
  "metadata": {
    "colab": {
      "provenance": [],
      "include_colab_link": true
    },
    "kernelspec": {
      "name": "python3",
      "display_name": "Python 3"
    },
    "language_info": {
      "name": "python"
    }
  },
  "cells": [
    {
      "cell_type": "markdown",
      "metadata": {
        "id": "view-in-github",
        "colab_type": "text"
      },
      "source": [
        "<a href=\"https://colab.research.google.com/github/LakshmiAhala/DataScience/blob/main/DS_Assign1.ipynb\" target=\"_parent\"><img src=\"https://colab.research.google.com/assets/colab-badge.svg\" alt=\"Open In Colab\"/></a>"
      ]
    },
    {
      "cell_type": "code",
      "execution_count": 1,
      "metadata": {
        "id": "iYTSid9S__2f"
      },
      "outputs": [],
      "source": [
        "#@title Assignment 1 (Capital Quiz)\n",
        "\n",
        "# state\tcapital\tpopulation of capital: census\tpopulation of capital: estimated\n",
        "raw_data = \"\"\"\n",
        "Alabama\tMontgomery\t(2020) 200,603\t(2021 est.) 198,665\n",
        "Alaska\tJuneau\t(2020) 32,255\t(2021 est.) 31,973\n",
        "Arizona\tPhoenix\t(2020) 1,608,139\t(2021 est.) 1,624,569\n",
        "Arkansas\tLittle Rock\t(2020) 202,591\t(2021 est.) 201,998\n",
        "California\tSacramento\t(2020) 524,943\t(2021 est.) 525,041\n",
        "Colorado\tDenver\t(2020) 715,522\t(2021 est.) 711,463\n",
        "Connecticut\tHartford\t(2020) 121,054\t(2021 est.) 120,576\n",
        "Delaware\tDover\t(2020) 39,403\t(2021 est.) 38,992\n",
        "Florida\tTallahassee\t(2020) 196,068\t(2021 est.) 197,102\n",
        "Georgia\tAtlanta\t(2020) 498,715\t(2021 est.) 496,461\n",
        "Hawaii\tHonolulu\t(2020) 350,964\t(2021 est.) 345,510\n",
        "Idaho\tBoise\t(2020) 235,684\t(2021 est.) 237,446\n",
        "Illinois\tSpringfield\t(2020) 114,394\t(2021 est.) 113,394\n",
        "Indiana\tIndianapolis\t(2020) 887,642\t(2021 est.) 882,039\n",
        "Iowa\tDes Moines\t(2020) 214,133\t(2021 est.) 212,031\n",
        "Kansas\tTopeka\t(2020) 126,587\t(2021 est.) 125,963\n",
        "Kentucky\tFrankfort\t(2020) 28,602\t(2021 est.) 28,595\n",
        "Louisiana\tBaton Rouge\t(2020) 227,470\t(2021 est.) 222,185\n",
        "Maine\tAugusta\t(2020) 18,899\t(2021 est.) 18,968\n",
        "Maryland\tAnnapolis\t(2020) 40,812\t(2021 est.) 40,687\n",
        "Massachusetts\tBoston\t(2020) 675,647\t(2021 est.) 654,776\n",
        "Michigan\tLansing\t(2020) 112,644\t(2021 est.) 112,684\n",
        "Minnesota\tSaint Paul\t(2020) 311,527\t(2021 est.) 307,193\n",
        "Mississippi\tJackson\t(2020) 153,701\t(2021 est.) 149,761\n",
        "Missouri\tJefferson City\t(2020) 43,228\t(2021 est.) 42,772\n",
        "Montana\tHelena\t(2020) 32,091\t(2021 est.) 33,120\n",
        "Nebraska\tLincoln\t(2020) 291,082\t(2021 est.) 292,657\n",
        "Nevada\tCarson City\t(2020) 58,639\t(2021 est.) 58,993\n",
        "New Hampshire\tConcord\t(2020) 43,976\t(2021 est.) 44,006\n",
        "New Jersey\tTrenton\t(2020) 90,871\t(2021 est.) 90,457\n",
        "New Mexico\tSanta Fe\t(2020) 87,505\t(2021 est.) 88,193\n",
        "New York\tAlbany\t(2020) 99,224\t(2021 est.) 98,617\n",
        "North Carolina\tRaleigh\t(2020) 467,665\t(2021 est.) 469,124\n",
        "North Dakota\tBismarck\t(2020) 73,622\t(2021 est.) 74,138\n",
        "Ohio\tColumbus\t(2020) 905,748\t(2021 est.) 906,528\n",
        "Oklahoma\tOklahoma City\t(2020) 681,054\t(2021 est.) 687,725\n",
        "Oregon\tSalem\t(2020) 175,535\t(2021 est.) 177,723\n",
        "Pennsylvania\tHarrisburg\t(2020) 50,099\t(2021 est.) 50,135\n",
        "Rhode Island\tProvidence\t(2020) 190,934\t(2021 est.) 189,692\n",
        "South Carolina\tColumbia\t(2020) 136,632\t(2021 est.) 137,541\n",
        "South Dakota\tPierre\t(2020) 14,091\t(2021 est.) 14,000\n",
        "Tennessee\tNashville\t(2020) 689,447\t(2021 est.) 678,851\n",
        "Texas\tAustin\t(2020) 961,855\t(2021 est.) 964,177\n",
        "Utah\tSalt Lake City\t(2020) 199,723\t(2021 est.) 200,478\n",
        "Vermont\tMontpelier\t(2020) 8,074\t(2021 est.) 8,002\n",
        "Virginia\tRichmond\t(2020) 226,610\t(2021 est.) 226,604\n",
        "Washington\tOlympia\t(2020) 55,605\t(2021 est.) 55,919\n",
        "West Virginia\tCharleston\t(2020) 48,864\t(2021 est.) 48,018\n",
        "Wisconsin\tMadison\t(2020) 269,840\t(2021 est.) 269,196\n",
        "Wyoming\tCheyenne\t(2020) 65,132\t(2021 est.) 65,051\n",
        "\"\"\"\n",
        "\n",
        "\n",
        "states_dictionary = {}\n",
        "\n",
        "# states_dictionary['Alabama'] = \"Montgomery\"\n",
        "# states_dictionary['Alaska'] = \"Juneau\"\n",
        "# states_dictionary['Arizona'] = \"Phoenix\"\n",
        "# states_dictionary['Arkansas'] = \"Little Rock\"\n",
        "# states_dictionary['California'] = \"Sacramento\"\n",
        "# states_dictionary['Colorado'] = \"Denver\"\n",
        "# states_dictionary['Connecticut'] = \"Hartford\"\n"
      ]
    },
    {
      "cell_type": "code",
      "source": [
        "#@title splitting the raw_data\n",
        "raw_data_splits = raw_data.split(\"\\n\")\n",
        "raw_data_splits = raw_data_splits[1:51]\n",
        "print(len(raw_data_splits))\n",
        "print(type(raw_data_splits))\n",
        "\n",
        "# populate the dictionary\n",
        "for elem in raw_data_splits:\n",
        "  tokens = elem.split(\"\\t\")\n",
        "  state = tokens[0]\n",
        "  capital = tokens[1]\n",
        "  #print(\"state: \", state, \"capital: \", capital)\n",
        "  states_dictionary[state] = capital\n",
        "\n",
        "\n",
        "# loop through the dictionary and print the data\n",
        "for state, capital in states_dictionary.items():\n",
        "  print(\"state: \", state, \"capital: \", capital)"
      ],
      "metadata": {
        "colab": {
          "base_uri": "https://localhost:8080/"
        },
        "id": "awZzeBFfAyWR",
        "outputId": "33843c62-f6c7-4bc0-a5e1-94e708fd747c"
      },
      "execution_count": 2,
      "outputs": [
        {
          "output_type": "stream",
          "name": "stdout",
          "text": [
            "50\n",
            "<class 'list'>\n",
            "state:  Alabama capital:  Montgomery\n",
            "state:  Alaska capital:  Juneau\n",
            "state:  Arizona capital:  Phoenix\n",
            "state:  Arkansas capital:  Little Rock\n",
            "state:  California capital:  Sacramento\n",
            "state:  Colorado capital:  Denver\n",
            "state:  Connecticut capital:  Hartford\n",
            "state:  Delaware capital:  Dover\n",
            "state:  Florida capital:  Tallahassee\n",
            "state:  Georgia capital:  Atlanta\n",
            "state:  Hawaii capital:  Honolulu\n",
            "state:  Idaho capital:  Boise\n",
            "state:  Illinois capital:  Springfield\n",
            "state:  Indiana capital:  Indianapolis\n",
            "state:  Iowa capital:  Des Moines\n",
            "state:  Kansas capital:  Topeka\n",
            "state:  Kentucky capital:  Frankfort\n",
            "state:  Louisiana capital:  Baton Rouge\n",
            "state:  Maine capital:  Augusta\n",
            "state:  Maryland capital:  Annapolis\n",
            "state:  Massachusetts capital:  Boston\n",
            "state:  Michigan capital:  Lansing\n",
            "state:  Minnesota capital:  Saint Paul\n",
            "state:  Mississippi capital:  Jackson\n",
            "state:  Missouri capital:  Jefferson City\n",
            "state:  Montana capital:  Helena\n",
            "state:  Nebraska capital:  Lincoln\n",
            "state:  Nevada capital:  Carson City\n",
            "state:  New Hampshire capital:  Concord\n",
            "state:  New Jersey capital:  Trenton\n",
            "state:  New Mexico capital:  Santa Fe\n",
            "state:  New York capital:  Albany\n",
            "state:  North Carolina capital:  Raleigh\n",
            "state:  North Dakota capital:  Bismarck\n",
            "state:  Ohio capital:  Columbus\n",
            "state:  Oklahoma capital:  Oklahoma City\n",
            "state:  Oregon capital:  Salem\n",
            "state:  Pennsylvania capital:  Harrisburg\n",
            "state:  Rhode Island capital:  Providence\n",
            "state:  South Carolina capital:  Columbia\n",
            "state:  South Dakota capital:  Pierre\n",
            "state:  Tennessee capital:  Nashville\n",
            "state:  Texas capital:  Austin\n",
            "state:  Utah capital:  Salt Lake City\n",
            "state:  Vermont capital:  Montpelier\n",
            "state:  Virginia capital:  Richmond\n",
            "state:  Washington capital:  Olympia\n",
            "state:  West Virginia capital:  Charleston\n",
            "state:  Wisconsin capital:  Madison\n",
            "state:  Wyoming capital:  Cheyenne\n"
          ]
        }
      ]
    },
    {
      "cell_type": "code",
      "source": [
        "# TODO by the student\n",
        "# Loop 5 times\n",
        "# Select 5 random keys and values\n",
        "# pose the question\n",
        "# get the answer\n",
        "# keep track of the correct answer\n",
        "# outside the loop, print the final score."
      ],
      "metadata": {
        "id": "3MfoqYKzCPk3"
      },
      "execution_count": null,
      "outputs": []
    },
    {
      "cell_type": "code",
      "source": [
        "import random\n",
        "\n",
        "score = 0\n",
        "\n",
        "for elem in range(5):\n",
        "  random_pair = key, val = random.choice(list(states_dictionary.items()))\n",
        "  # print(random_pair)\n",
        "\n",
        "  state = random_pair[0]\n",
        "  # print(state)\n",
        "  capital = random_pair[1]\n",
        "  # print(capital)\n",
        "\n",
        "  question = ('What is the capital of ' + state + '?' + ' ')\n",
        "  print('Please punctuate correctly. Start your answer with a capital letter.')\n",
        "  answer = input(question)\n",
        "  if answer == capital:\n",
        "    print('Correct')\n",
        "    score = score + 1\n",
        "  else:\n",
        "    print('Incorrect')\n",
        "\n",
        "if score <= 3:\n",
        "  print('\\n', '=======================================================')\n",
        "  print(\"Well tried! You're score is: \", score)\n",
        "elif score > 3:\n",
        "  print('\\n', '=======================================================')\n",
        "  print(\"Good Job! You're score is: \", score)"
      ],
      "metadata": {
        "colab": {
          "base_uri": "https://localhost:8080/"
        },
        "id": "wt6_HKHbsUof",
        "outputId": "27db6215-27df-44ca-b9df-b537e3a4fabf"
      },
      "execution_count": 30,
      "outputs": [
        {
          "output_type": "stream",
          "name": "stdout",
          "text": [
            "Please punctuate correctly. Start your answer with a capital letter.\n",
            "What is the capital of Rhode Island? Providence\n",
            "Correct\n",
            "Please punctuate correctly. Start your answer with a capital letter.\n",
            "What is the capital of West Virginia? Charleston\n",
            "Correct\n",
            "Please punctuate correctly. Start your answer with a capital letter.\n",
            "What is the capital of Indiana? Raleigh\n",
            "Incorrect\n",
            "Please punctuate correctly. Start your answer with a capital letter.\n",
            "What is the capital of Kansas? Topeka\n",
            "Correct\n",
            "Please punctuate correctly. Start your answer with a capital letter.\n",
            "What is the capital of Maine? Sacramento\n",
            "Incorrect\n",
            "\n",
            " =======================================================\n",
            "Well tried! You're score is:  3\n"
          ]
        }
      ]
    }
  ]
}