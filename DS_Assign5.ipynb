{
  "cells": [
    {
      "cell_type": "markdown",
      "metadata": {
        "id": "view-in-github",
        "colab_type": "text"
      },
      "source": [
        "<a href=\"https://colab.research.google.com/github/LakshmiAhala/DataScience/blob/main/DS_Assign5.ipynb\" target=\"_parent\"><img src=\"https://colab.research.google.com/assets/colab-badge.svg\" alt=\"Open In Colab\"/></a>"
      ]
    },
    {
      "cell_type": "code",
      "source": [
        "#@title Importing the csv using pandas - Working Model\n",
        "\n",
        "# Importing pandas\n",
        "import pandas as pd\n",
        "import numpy\n",
        "\n",
        "# Reading the contents of the file\n",
        "filepath = r\"/content/raw_titanic_data.csv\";\n",
        "titanic_data = pd.read_csv(filepath)\n",
        "\n",
        "# Getting the row count and the coloumn count to doublecheck if all the data has been processed\n",
        "row_count = len(list(titanic_data.axes[0]))\n",
        "column_count = len(list(titanic_data.axes[1]))\n",
        "# print(\"Row count: \" + str(row_count))\n",
        "# print(\"Column count: \" + str(column_count))\n",
        "\n",
        "# Printing the data\n",
        "titanic_data.head()\n",
        "\n",
        "\n",
        "###AVERAGE FARE###\n",
        "\n",
        "# Getting a specific coloumn - Fare\n",
        "fare = pd.read_csv(\"/content/raw_titanic_data.csv\", usecols = ['Fare'])\n",
        "# print(fare)\n",
        "\n",
        "# Printing the average fare\n",
        "print('1) AVERAGE FARE')\n",
        "print(fare.mean())\n",
        "\n",
        "###MOST COMMON LAST NAME###\n",
        "\n",
        "# Split the 'Name' column by the delimiter ','\n",
        "titanic_data[['Lname', 'Fname']] = titanic_data['Name'].str.split(',', expand=True)\n",
        "\n",
        "# Calculate the frequency of each last name\n",
        "last_name_counts = titanic_data['Lname'].value_counts()\n",
        "\n",
        "# Display the frequency of last names\n",
        "print('\\n2) MOST COMMON LAST NAME')\n",
        "last_name_counts"
      ],
      "metadata": {
        "colab": {
          "base_uri": "https://localhost:8080/",
          "height": 576
        },
        "id": "6rMZrgDgMosY",
        "outputId": "92801c40-2a84-47b0-f21f-b7b697b8b522"
      },
      "execution_count": 25,
      "outputs": [
        {
          "output_type": "stream",
          "name": "stdout",
          "text": [
            "1) AVERAGE FARE\n",
            "Fare    33.295479\n",
            "dtype: float64\n",
            "\n",
            "2) MOST COMMON LAST NAME\n"
          ]
        },
        {
          "output_type": "execute_result",
          "data": {
            "text/plain": [
              "Lname\n",
              "Andersson    11\n",
              "Sage         11\n",
              "Goodwin       8\n",
              "Asplund       8\n",
              "Davies        7\n",
              "             ..\n",
              "Milling       1\n",
              "Maisner       1\n",
              "Goncalves     1\n",
              "Campbell      1\n",
              "Saether       1\n",
              "Name: count, Length: 875, dtype: int64"
            ],
            "text/html": [
              "<div>\n",
              "<style scoped>\n",
              "    .dataframe tbody tr th:only-of-type {\n",
              "        vertical-align: middle;\n",
              "    }\n",
              "\n",
              "    .dataframe tbody tr th {\n",
              "        vertical-align: top;\n",
              "    }\n",
              "\n",
              "    .dataframe thead th {\n",
              "        text-align: right;\n",
              "    }\n",
              "</style>\n",
              "<table border=\"1\" class=\"dataframe\">\n",
              "  <thead>\n",
              "    <tr style=\"text-align: right;\">\n",
              "      <th></th>\n",
              "      <th>count</th>\n",
              "    </tr>\n",
              "    <tr>\n",
              "      <th>Lname</th>\n",
              "      <th></th>\n",
              "    </tr>\n",
              "  </thead>\n",
              "  <tbody>\n",
              "    <tr>\n",
              "      <th>Andersson</th>\n",
              "      <td>11</td>\n",
              "    </tr>\n",
              "    <tr>\n",
              "      <th>Sage</th>\n",
              "      <td>11</td>\n",
              "    </tr>\n",
              "    <tr>\n",
              "      <th>Goodwin</th>\n",
              "      <td>8</td>\n",
              "    </tr>\n",
              "    <tr>\n",
              "      <th>Asplund</th>\n",
              "      <td>8</td>\n",
              "    </tr>\n",
              "    <tr>\n",
              "      <th>Davies</th>\n",
              "      <td>7</td>\n",
              "    </tr>\n",
              "    <tr>\n",
              "      <th>...</th>\n",
              "      <td>...</td>\n",
              "    </tr>\n",
              "    <tr>\n",
              "      <th>Milling</th>\n",
              "      <td>1</td>\n",
              "    </tr>\n",
              "    <tr>\n",
              "      <th>Maisner</th>\n",
              "      <td>1</td>\n",
              "    </tr>\n",
              "    <tr>\n",
              "      <th>Goncalves</th>\n",
              "      <td>1</td>\n",
              "    </tr>\n",
              "    <tr>\n",
              "      <th>Campbell</th>\n",
              "      <td>1</td>\n",
              "    </tr>\n",
              "    <tr>\n",
              "      <th>Saether</th>\n",
              "      <td>1</td>\n",
              "    </tr>\n",
              "  </tbody>\n",
              "</table>\n",
              "<p>875 rows × 1 columns</p>\n",
              "</div><br><label><b>dtype:</b> int64</label>"
            ]
          },
          "metadata": {},
          "execution_count": 25
        }
      ]
    }
  ],
  "metadata": {
    "colab": {
      "provenance": [],
      "include_colab_link": true
    },
    "kernelspec": {
      "display_name": "Python 3",
      "name": "python3"
    },
    "language_info": {
      "name": "python"
    }
  },
  "nbformat": 4,
  "nbformat_minor": 0
}