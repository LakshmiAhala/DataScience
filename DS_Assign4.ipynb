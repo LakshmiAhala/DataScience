{
  "nbformat": 4,
  "nbformat_minor": 0,
  "metadata": {
    "colab": {
      "provenance": [],
      "authorship_tag": "ABX9TyNPmyFJuKNXtY59N43uatZy",
      "include_colab_link": true
    },
    "kernelspec": {
      "name": "python3",
      "display_name": "Python 3"
    },
    "language_info": {
      "name": "python"
    }
  },
  "cells": [
    {
      "cell_type": "markdown",
      "metadata": {
        "id": "view-in-github",
        "colab_type": "text"
      },
      "source": [
        "<a href=\"https://colab.research.google.com/github/LakshmiAhala/DataScience/blob/main/DS_Assign4.ipynb\" target=\"_parent\"><img src=\"https://colab.research.google.com/assets/colab-badge.svg\" alt=\"Open In Colab\"/></a>"
      ]
    },
    {
      "cell_type": "code",
      "source": [
        "#@title Assignment 4 - Color Survey\n",
        "\n",
        "VERBOSE = True\n",
        "\n",
        "color_list = ['Red', 'Blue', 'Yelow', 'Pink', 'Green', 'Purple', 'White', 'Magenta', 'Cyan', 'Orange']\n",
        "input_data = [{'Person': 'Uma', 'Color': 'red', 'Rating': '10'},\n",
        "              {'Person': 'Uma', 'Color': 'blue', 'Rating': '90'},\n",
        "              {'Person': 'Naresh', 'Color': 'red', 'Rating': '30'},\n",
        "              {'Person': 'Naresh', 'Color': 'blue', 'Rating': '70'},\n",
        "              {'Person': 'Manya', 'Color': 'red', 'Rating': '40'},\n",
        "              {'Person': 'Manya', 'Color': 'blue', 'Rating': '60'},\n",
        "              {'Person': 'Ahala', 'Color': 'black', 'Rating': '100'},\n",
        "]\n",
        "\n",
        "color_rating_dict = {}\n",
        "\n",
        "for item in input_data:\n",
        "  person = item['Person']\n",
        "  color = item['Color']\n",
        "  rating = item['Rating']\n",
        "\n",
        "  if color not in color_rating_dict:\n",
        "    color_rating_dict[color] = 0\n",
        "\n",
        "  color_rating_dict[color] = color_rating_dict[color] + int(rating)\n",
        "  # Getting the Highest Rating\n",
        "  ratings = color_rating_dict.values()\n",
        "  colors = color_rating_dict.keys()\n",
        "\n",
        "  for rating in ratings:\n",
        "    rating = str(rating)\n",
        "    max_rating = max(ratings)\n",
        "    max_color = list(filter(lambda x: color_rating_dict[x] == max_rating, color_rating_dict))[0]\n",
        "#print(max_color)\n",
        "#print(max_rating)\n",
        "\n",
        "print('Highest Rated Color: ', max_color, '-', max_rating)\n"
      ],
      "metadata": {
        "colab": {
          "base_uri": "https://localhost:8080/"
        },
        "id": "OZnprtJhRpQj",
        "outputId": "f9836927-6c54-4d09-837a-2a5f99d6cf14"
      },
      "execution_count": 60,
      "outputs": [
        {
          "output_type": "stream",
          "name": "stdout",
          "text": [
            "Highest Rated Color:  blue - 220\n"
          ]
        }
      ]
    }
  ]
}